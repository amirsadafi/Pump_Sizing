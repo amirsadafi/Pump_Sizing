{
 "cells": [
  {
   "cell_type": "markdown",
   "metadata": {},
   "source": [
    "<div class=\"Pump Selection & Calculation\">\n",
    "    <h1 align=\"center\">Pump Selection & Calculation</h1>\n",
    "    <h3 align=\"center\"> EPC Project - E Phase </h3>\n",
    "    <h2 align=\"center\">Amir M. Sadafi </h2>\n",
    "     <h5 align=\"center\">https://www.linkedin.com/in/amirsadafi/) </h5>\n",
    "    <h5 align=\"center\"> (https://github.com/amirsadafi)</h5>\n",
    "</div>"
   ]
  },
  {
   "cell_type": "markdown",
   "metadata": {},
   "source": [
    "## Pump Selection Tool\n",
    "\n",
    "This Python script helps users select the appropriate pump type based on their flow rate, pressure, and other requirements. It follows a structured decision tree inspired by an industrial pump selection flowchart.\n",
    "\n",
    "## How It Works\n",
    "- The script prompts users to input their flow rate in GPM.\n",
    "- Based on the flow rate, it asks additional questions regarding pressure, particulate matter, self-priming capability, and other factors.\n",
    "- After gathering the necessary inputs, it determines and prints the most suitable pump type.\n",
    "\n",
    "## Usage\n",
    "Run the script in a Python environment:\n",
    "```sh\n",
    "python pump_selection.py\n",
    "```\n",
    "Follow the prompts to receive the recom|mended pump type.\n",
    "\n",
    "## Requirements\n",
    "- Python 3.x\n",
    "\n",
    "## License\n",
    "This project is open-source and available for use under the MIT License.\n",
    "\n"
   ]
  },
  {
   "cell_type": "code",
   "execution_count": 3,
   "metadata": {},
   "outputs": [
    {
     "name": "stdout",
     "output_type": "stream",
     "text": [
      "Recommended Pump Type: Centrifugal or Gear\n"
     ]
    }
   ],
   "source": [
    "\n",
    "def select_pump():\n",
    "    flow_rate = float(input(\"Enter flow rate (GPM): \"))\n",
    "    if flow_rate < 1:\n",
    "        pressure = float(input(\"Enter pressure (PSI): \"))\n",
    "        if pressure < 30:\n",
    "            pulseless = input(\"Do you require a pulseless flow? (yes/no): \").strip().lower()\n",
    "            if pulseless == \"yes\":\n",
    "                return \"Peristaltic (tubing) or Progressing Cavity\"\n",
    "            else:\n",
    "                return \"Double-Diaphragm\"\n",
    "        else:\n",
    "            particulate = input(\"Does your fluid contain particulate matter? (yes/no): \").strip().lower()\n",
    "            if particulate == \"yes\":\n",
    "                return \"Double-Diaphragm\"\n",
    "            else:\n",
    "                return \"Diaphragm (metering) or Peristaltic (tubing)\"\n",
    "    elif 1 <= flow_rate <= 20:\n",
    "        pressure = float(input(\"Enter pressure (PSI): \"))\n",
    "        if pressure < 30:\n",
    "            self_priming = input(\"Do you require a self-priming pump? (yes/no): \").strip().lower()\n",
    "            if self_priming == \"yes\":\n",
    "                return \"Flexible Impeller or Peristaltic (tubing)\"\n",
    "            else:\n",
    "                return \"Centrifugal or Gear\"\n",
    "        else:\n",
    "            return \"Gear, Pressure Washer, Progressing Cavity, or Rotary Lobe\"\n",
    "    else:\n",
    "        pressure = float(input(\"Enter pressure (PSI): \"))\n",
    "        if pressure < 30:\n",
    "            return \"Centrifugal\"\n",
    "        else:\n",
    "            particulate = input(\"Does your fluid contain particulate matter? (yes/no): \").strip().lower()\n",
    "            if particulate == \"yes\":\n",
    "                return \"Double-Diaphragm\"\n",
    "            else:\n",
    "                return \"Centrifugal, Gear, Progressing Cavity, or Rotary Vane\"\n",
    "\n",
    "if __name__ == \"__main__\":\n",
    "    pump_type = select_pump()\n",
    "    print(f\"Recommended Pump Type: {pump_type}\")\n"
   ]
  }
 ],
 "metadata": {
  "kernelspec": {
   "display_name": "Python 3",
   "language": "python",
   "name": "python3"
  },
  "language_info": {
   "codemirror_mode": {
    "name": "ipython",
    "version": 3
   },
   "file_extension": ".py",
   "mimetype": "text/x-python",
   "name": "python",
   "nbconvert_exporter": "python",
   "pygments_lexer": "ipython3",
   "version": "3.9.6"
  }
 },
 "nbformat": 4,
 "nbformat_minor": 2
}
